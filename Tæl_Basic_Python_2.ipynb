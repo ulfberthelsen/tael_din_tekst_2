{
 "cells": [
  {
   "cell_type": "markdown",
   "metadata": {},
   "source": [
    "# Tæl din tekst: Basic Python 2\n",
    "***\n",
    "***\n",
    "Keywords: `syntaks`, `flow control`, `conditionals`, `loops`\n",
    "\n",
    "Nye Python-udtryk: `==, <, >`, `for x in y:`, `if/else/elif`, `open()`, `.read()`, `.readlines()`, `.append()`\n",
    "***\n",
    "***\n",
    "### Grundlæggende syntaks og flow-control\n",
    "SYNTAKS<br>\n",
    "I kender begrebet `syntaks` (sætningsstruktur) fra grammatikken. I forbindelse med programmeringssprog bruges `syntaks` om rækkefølgen af elementer i et `statement` (en kommando, der får noget til at ske).\n",
    "\n",
    "I modsætning til syntaksen i naturligt sprog, der er dynamisk med mange variationsmuligheder, er syntaksen i programmerinssprog rigid, og der er ikke plads til fejl. Den mindste slåfejl eller forglemmelse medfører en fejlmelding.\n",
    "\n",
    "Det er derfor vigtigt, at I er omhygglige, når I koder, og det er **meget vigtigt**, at i jævnligt afprøver koden og tjekker for fejl. Det kan være meget vanskeligt at finde fejlen i et længere script, fx et manglende komma eller en manglende parentes.\n",
    "\n",
    "\n",
    "FLOW CONTROL<br>\n",
    "Betegnelsen `flow control` henviser til det at kontrollere afviklingen af et program. Simple programmer afvikles ganske enkelt én kommando ad gangen fra start til slut. Vi har dog ofte brug for at kunne gentage kommandoer eller kunne gøre forskellige ting i forskellige situationer. Til dette bruger vi `loops` og `conditionals`.\n",
    "\n",
    "Flow control statements skrives altid på samme måde. Første linje afsluttes med `:`, og de efterfølgende linjer rykkes ind. Dette kaldes *indentation* på engelsk, og sker automatisk i de fleste editorer, fx Spyder og her i Jupyter. Hvis det ikke sker automatisk, kan indrykningen ske manuelt med **præcis** fire blanktegn. \n",
    "\n",
    "`coditionals` er kodesekvenser, der kontrollerer, at andre kodesekvenser kun afvikles, hvis bestemte betingelser er opfyldt. I forbindelse brugen af `conditionals` får i ofte brug for sammenligninger for at styre kodesekvensen. Der er seks sammenligningsoperatorer:\n",
    "* Lig med: `==`\n",
    "* Ikke lig med `!=`\n",
    "* Større end: `>`\n",
    "* Større en eller lig med: `>=`\n",
    "* Mindre end: `<`\n",
    "* Mindre end ellerlig med: `<=`\n",
    "\n",
    "Et et eksempel kunne se således ud:\n"
   ]
  },
  {
   "cell_type": "code",
   "execution_count": null,
   "metadata": {},
   "outputs": [],
   "source": [
    "a = 'Det hemmelige kodeord'\n",
    "print(\"Indtast det hemmelige kodeord\")\n",
    "b = input()\n",
    "if a == b:\n",
    "    print('Døren er åben!')\n",
    "else:\n",
    "    print(\"Ingen adgang!\")"
   ]
  },
  {
   "cell_type": "markdown",
   "metadata": {},
   "source": [
    "Et `loop` et en kodesekvens, der kontrollerer, at de efterfølgende sekvenser gentages under kontrollerede forhold. Skulle I komme til at lave et loop, der kører uendeligt så tryk `CTRL + C` så stopper afviklingen af programmet og fejlen kan rettes.\n",
    "\n",
    "Et loop kan skrives på to måde: enten som et for-loop eller som et while-loop. Der er ikke nogen grundlæggende forskel på dem. Et for-loop er i virkeligheden en slags 'hurtig-notation for et while-loop', der bruges hvis det ikke er nødvendigt eksplicit at specificere, hvor længe loopet skal køre.\n",
    "\n",
    "Et eksempel på et for-loop kunne se således ud:"
   ]
  },
  {
   "cell_type": "code",
   "execution_count": null,
   "metadata": {},
   "outputs": [],
   "source": [
    "a = 'kodeord'\n",
    "for x in a: \n",
    "    print(x)"
   ]
  },
  {
   "cell_type": "markdown",
   "metadata": {},
   "source": [
    "Et eksempel på et while-loop kunne se således us:"
   ]
  },
  {
   "cell_type": "code",
   "execution_count": null,
   "metadata": {},
   "outputs": [],
   "source": [
    "x = []\n",
    "while len(x) <= 4:\n",
    "    print(\"Tast dit navn:\")\n",
    "    x.append(input())\n",
    "    print(x)\n",
    "print(\"Der er lukket for tilmeldinger\")\n",
    "print(\"Listen over tilmeldte:\" + str(x))"
   ]
  },
  {
   "cell_type": "markdown",
   "metadata": {},
   "source": [
    "### Husk at kommentere jeres scripts\n",
    "Det er vigtigt at i husker at kommentere jeres scripts, så I kan huske hvad koden betyder, når I vender tilbae til det. Kommentarer indledes med `#`. Hashtagget får Python til at ignorere det, der følger efter.\n",
    "* Kommentarer skal være klare og præcise\n",
    "* Foklar hvorfor en kodelinje eller blok er tilstede - det kan fx være nødvendigt at angive, at en blok er den sekvens der indledningsvis tilskriver alle variablerne en værdi\n",
    "* Forklar kun hvad en kodelinje gør, hvis det ikke er indlysende - det er fx ikke nødvendigt at forklare, ar der er tale om væditilskrivning, hver eneste gang man bruger assignment operatoren `=`\n",
    "\n",
    "### ... og husk at tage noter og tænke videre\n",
    "Når I har gemt denne Notebook på jeres computer, kan I også skrive til og tage noter her. I kan enten skrive til, i de markdown-felter jeg allerede har lavet, eller I kan tilføje nye felter, hvor I tilføjer jeres egne noter."
   ]
  },
  {
   "cell_type": "markdown",
   "metadata": {},
   "source": [
    "***\n",
    "***\n",
    "## Opgave 1: Refleksionsopgave\n",
    "***\n",
    "\n",
    "***\n",
    "Diskutér de tre kodeeksempler ovenfor: \n",
    "- Prøv at køre dem, tryk `SHIFT + ENTER`\n",
    "- Hvad sker der?\n",
    "- Hvilken funktion har de enkelte kodelinjer?\n",
    "- Kommentér kodeeksemplerne i jeres egne Notebooks med `#-notation`\n",
    "- Prøv at ændre i koden, fx værdien af variablerne\n",
    "    - Sker der det I forventede?"
   ]
  },
  {
   "cell_type": "markdown",
   "metadata": {},
   "source": [
    "***\n",
    "***\n",
    "## Opgave 2: Lær at læse programmeringssprog\n",
    "***\n",
    "***\n",
    "En vigtig forudsætning for at blive god til at programmere er, at man lærer at læse kode. Der findes mange forskellige programmeringssprog, så I kan passende tænke på processen som det at lære et nyt fremmedsprog. Inden for andetsprogspædagogikken er der en tommelfingerregel om, at man skal være stødt på et ord 15-20 gange i forskellige kontekster (hørt ordet, læst ordet, skrevet ordet, sagt ordet), før det bliver en del af ens aktive ordforråd. Det samme gælder for programmeringssprog. \n",
    "\n",
    "Udover at det er en god måde at blive fortrolig med de mange nye udtryk, er det at kunne læse kode også ofte en forudsætning for at lære nye funktionalitet. I vil ofte få brug for at søge efter eksempler eller forklaringer, og her er det også nødvendigt at kunne læse og forstå eksemplerne.\n",
    "\n",
    "#### Begynd i den anden ende!\n",
    "Algoritmer er skridtvise sekvenser, der udføres et skridt ad gangen, indtil hele sekvensen er afviklet. I Python (og i mange andre programmeringssprog) udtrykkes dette ved hjælp af parenteser.\n",
    "\n",
    "`y = (kommando2(kommando1(x)))`\n",
    "\n",
    "I modsætning til almindeligt skriftsprog, der læses fra venstre mod højre, skal I læse parenteserne indefra og ud:\n",
    "\n",
    "1. Udfør kommando1 på værdiern af x\n",
    "1. Udfør kommando2 på resulatatet af at udføre kommando1 på x\n",
    "1. Gem resultatet af at udføre kommando2 på resulatatet af at udføre kommando1 på x under navnt y\n",
    "\n",
    "I praksis er det mere overskueligt. Kig på følgende eksempel:<br>\n",
    "`x = 'Der var en gang'`<br>\n",
    "`y = len(x.split())`  <br>\n",
    "`print(y)`\n",
    "\n",
    "Læses:\n",
    "1. Gem strengen 'Der var en gang' under navnet x\n",
    "1. Split værdien af x ved blanktegn\n",
    "1. Mål længden af resultatet af at splitte x\n",
    "1. Gem målet under navnet y\n",
    "1. Print værdien af y\n",
    "\n",
    "Indtast eksemplet i feltet nedenfor. Overvej følgende inden i afprøver koden:\n",
    "1. Hvad bliver resultatet af at printe y?\n",
    "1. Hvad er det vi måler længden af?\n",
    "1. Hvilke datatyper er i spil?\n",
    "1. Prøv at også at læse koden i while-loopet ovenfor.\n"
   ]
  },
  {
   "cell_type": "code",
   "execution_count": null,
   "metadata": {},
   "outputs": [],
   "source": []
  },
  {
   "cell_type": "markdown",
   "metadata": {},
   "source": [
    "***\n",
    "***\n",
    "## Opgave 3: Åbne filer i Python\n",
    "***\n",
    "***\n",
    "**Gem tekstfilerne i den aktuelle mappe**<br>\n",
    "I de følgende skal vi bruge to forskellige tekstfiler. Den ene hedder `\"tændstik.txt\"`, og den anden hedder `\"tale_mf_2021.txt\"`. Filerne ligger på BB. \n",
    "\n",
    "Der er snedige måder at finde filer i andre mapper, men for nemhedens skyld, skal I i første omgang gemme filerne i samme mappe som i har gemt Jypyter-filerne.\n",
    "\n",
    "**Åbne en fil i Python**<br>\n",
    "Der er mange måder at importere data, når man arbejder med Python. Hvis man allerede har sin tekst gemt i en fil i `.txt`-format, er det letteste at bruge kommandoen `open()`. I parentesen efter `open` er der plads til forskellige typer af argumenter, afhængigt af, hvad man vil med filen. Det kommer vi tilbage til senere, men i kan prøve at google \"python open()\", hvis I er nysgerrige.\n",
    "\n",
    "Det vigtigste argument er naturligvis filnavnet. Prøv at indtaste følgende kode i feltet nedenunder:\n",
    "\n",
    "`test = open(\"tændstik.txt\")`<br>\n",
    "`testTekst = test.read()`<br>\n",
    "`print(testTekst)`<br>"
   ]
  },
  {
   "cell_type": "code",
   "execution_count": null,
   "metadata": {},
   "outputs": [],
   "source": []
  },
  {
   "cell_type": "markdown",
   "metadata": {},
   "source": [
    "Når i afvikler koden får I formentlig enten en fejlemelding, eller et output, hvor nogle af tegnene ser mærkelige ud. Dette skyldes at der er forskellige standarder for at oversætte bits og bytes til skrifttegn. Der er derfor ofte nødvendigt at specificere en såkaldt `encoding`. Når I fx åbner står en ny fil i Spyder, står der som udgangspunkt altid `# -*- coding: utf-8 -*-` i den øverste linje. Her præciseres det, at det `utf8`-standarden, der skal bruges i scriptet er `utf8`.\n",
    "\n",
    "`utf8` er en af de mest almindelige encodings, og er standarden for næsten al tekst på internettet. Det er derfor et godt bud, hvis I ikke ved det med sikkerhed. Prøv derfor at tilføje `encoding=\"utf8\"` som andet argument, så kodesekvensen i stedet kommer til at se således ud. \n",
    "\n",
    "`test = open(\"tændstik.txt\", encoding=\"utf8\")`<br>\n",
    "`testTekst = test.read()`<br>\n",
    "`print(testTekst)`<br>\n",
    "\n",
    "Tjek at teksten nu printes med de rigtige bogstaver."
   ]
  },
  {
   "cell_type": "code",
   "execution_count": null,
   "metadata": {},
   "outputs": [],
   "source": []
  },
  {
   "cell_type": "markdown",
   "metadata": {},
   "source": [
    "## Mettes tale\n",
    "Den næste tekst i skal åbne er Mettes nytårstale fra 2021. Brug samme fremgangsmåde som før. \n",
    "\n",
    "**Bemærk** anden kodelinje. Når vi bruger kommandoen `open()`, så åbnes filen i den forstand, at den er tilgængelig for os. Vi kan dog ikke printe den direkte. Hvis I indtaster koden nedenfor, får I blot en kryptisk bedsked om hvilken TextWrapper (modul der bruges til at læse og foormatere tekster) der bruges. **Prøv!**\n",
    "\n",
    "`tekst = open(\"tale_mf_2021.txt\", encoding=\"utf8\")`<br>\n",
    "`print(tekst)`\n",
    "\n",
    "I skal derfor tilføje linjen `mfTekst = tekst.read()`, der vha `.read()`-kommandoen giver besked om, at filens indhold skal indlæses og gemmes under navnet `mfTekst`.\n",
    "\n",
    "Koden skal derfor se således ud:\n",
    "\n",
    "`tekst = open(\"tale_mf_2021.txt\", encoding=\"utf8\")`<br>\n",
    "`mfTekst = tekst.read()`<br>\n",
    "`print(mfTekst)`\n",
    "\n",
    "**Husk** at `tekst`og `mfTekst` bare er variabelnavne, så dem kan I ændre, hvis I har lyst."
   ]
  },
  {
   "cell_type": "code",
   "execution_count": null,
   "metadata": {},
   "outputs": [],
   "source": []
  },
  {
   "cell_type": "markdown",
   "metadata": {},
   "source": [
    "***\n",
    "***\n",
    "## Opgave 4: Indlæs data fra åben fil som streng eller liste\n",
    "***\n",
    "***\n",
    "**Inflæst som** `string`<br>\n",
    "Når man indlæser en tekstfil ved hjælp af `.read()`-kommandoen indlæses den som én lang streng. Hvis I er tvivl om datatypen, kan I altid bruge `type()`-kommandoen, der returnerer variablens datatype.\n",
    "\n",
    "Tjek at tekstfilen er indlæst som en `string` ved at indtaste koden `type(mfTekst)` i feltet nedenfor. Outputtet skulle gerne være `str`.\n",
    "\n",
    "**Bemærk** i øvrigt at nummereringen af input-felter er <font color='blue'>blå</font>, mens nummereringen af output-felter er <font color='red'>rød</font>. Det kan være nyttigt, hvis man leder efter output i en lang notebook."
   ]
  },
  {
   "cell_type": "code",
   "execution_count": null,
   "metadata": {},
   "outputs": [],
   "source": []
  },
  {
   "cell_type": "markdown",
   "metadata": {},
   "source": [
    "**Indlæst som** `list`<br>\n",
    "Hvis man af den ene eller anden grund har brug for at indlæse teksten linje for linje, kan indholdet af filen i stedet indlæses som en `list` af `strings`, hvor hver enkelt linje indlæses som en selvstænding `string`. Brug da kommandoen `.readlines()` i stedet for `.read()`.\n",
    "\n",
    "Indtast følgende kode i feltet nedenfor: \n",
    "\n",
    "`tekst = open(\"tale_mf_2021.txt\", encoding=\"utf8\")`<br>\n",
    "`mfLine = tekst.readlines()`<br>\n",
    "`print(mfLine)`<br>\n",
    "\n",
    "**Læg mærke til**, hvordan outputtet har ændret. I kan se det er en liste, fordi den er omkranset af firkantede parenteser, og hver enkelt linje omgivet af anførselstegn og adskilt af kommaer `['line', 'linje', 'linje']`.\n",
    "\n",
    "Hvis I vil tjekke datatypen, kan I indtaste `type(mfLine)` i det næste felt. Outputtet skulle gerne være `list`"
   ]
  },
  {
   "cell_type": "code",
   "execution_count": null,
   "metadata": {},
   "outputs": [],
   "source": []
  },
  {
   "cell_type": "code",
   "execution_count": null,
   "metadata": {},
   "outputs": [],
   "source": []
  },
  {
   "cell_type": "markdown",
   "metadata": {},
   "source": [
    "***\n",
    "***\n",
    "## Opgave 5: Inspicér indholdet af en variabel\n",
    "***\n",
    "***\n",
    "Det kan nogle gange være nyttigt at inspicere indholdet af en variabel. Hvis vi, som vi allerede har prøvet mange gange, bruger funktionen `print()`, viser Python os et 'pænt' og læsevenligt output. \n",
    "\n",
    "Prøv at taste `print(mfTekst)` i feltet nedenfor og læg mærke til, hvordan teksten er opstillet."
   ]
  },
  {
   "cell_type": "code",
   "execution_count": null,
   "metadata": {},
   "outputs": [],
   "source": []
  },
  {
   "cell_type": "markdown",
   "metadata": {},
   "source": [
    "Hvis vi derimod vil se det 'rå' indhold af variablen, skal I blot indtaste variabelnavnet, dvs. uden `print()`. Prøv at taste `mfTekst` i feltet nedenfor og sammenlign outputtet med det output, I fik ved at anvende `print`-funktionen i feltet ovenfor.\n",
    "\n",
    "Læg fx mærke til, at I her kan se, at der er tale om en `string`, fordi den er omgivet af anførselsteg `' '`. Læg også mærke til at den rå tekst indeholder formateringskoder. Der er fx eksempler på `\\n`, som er den formateringskode, der resulterer i et linje skift i outputtet, hvis i bruger `print()`."
   ]
  },
  {
   "cell_type": "code",
   "execution_count": null,
   "metadata": {},
   "outputs": [],
   "source": []
  },
  {
   "cell_type": "markdown",
   "metadata": {},
   "source": [
    "Prøv også at undersøge forskellen på at printe en `list` og inspicere indholdet af en variabel, der indeholder en `list`. Prøv at indtaste kommandoerne `print(mfLine)` og `mfLine` i hver sit felt nedenfor, og undersøg forskellen.\n",
    "\n",
    "**Hvordan** kan man se, at der er tale om en `list`?"
   ]
  },
  {
   "cell_type": "code",
   "execution_count": null,
   "metadata": {},
   "outputs": [],
   "source": []
  },
  {
   "cell_type": "code",
   "execution_count": null,
   "metadata": {},
   "outputs": [],
   "source": []
  },
  {
   "cell_type": "markdown",
   "metadata": {},
   "source": [
    "Hvis man har brug for en lidt mere overskuelig opstilling, kan man fx bruge et `for-loop` til at printe listen én linje ad gangen.\n",
    "\n",
    "Prøv at indtaste følgende kode i feltet nedenfor:\n",
    "\n",
    "`for linje in mfLine:`<br>\n",
    "&nbsp;&nbsp;&nbsp;&nbsp;`print(linje)`\n",
    "\n",
    "Husk at `linje` er et variabelnavn. Der kunne også have stået `for liste in mfLine` eller `for x in mfLine`. Der er frit valg, men det er tit en god idé at bruge meningsfulde navne som 'ord', 'linje' eller 'bogstav', der afspejler, hvad der loopes over. Så bliver det nemmere at læse koden.\n"
   ]
  },
  {
   "cell_type": "code",
   "execution_count": null,
   "metadata": {},
   "outputs": [],
   "source": []
  },
  {
   "cell_type": "markdown",
   "metadata": {},
   "source": [
    "***\n",
    "***\n",
    "## Opgave 6: Data cleaning og pre-processing - 'Bag of words' approach\n",
    "***\n",
    "***\n",
    "Der er mange måder at rense og præ-processere rå tekst. Det følgende er derfor kun én (relativt simpel) mulighed ud af mange. Vi vender løbende tilbage til data cleaning og præ-processering.\n",
    "\n",
    "I det følgende skal vi anvende en tilgang, der ofte kaldes `bag of words`. Navnet skyldes, at vi fjerner så meget 'støj' som muligt, så vi til sidst kun har en simpel ustruktureret ordliste tilbage - en pose ord.\n",
    "\n",
    "I det følgende skal I:\n",
    "1. Åbne og indlæse teksten\n",
    "1. Fjerne de mange linjeskift-koder '\\n'\n",
    "1. Fjerne overfødige tegn, fx `.`, `,`, `:`, `*`, `-`, `'`, `\"`\n",
    "1. Konvertere alle bogstaver til små bogstaver\n",
    "1. `Tokenize`, dvs. splitte teksten (som er en `string`), så vi får en en `list` der indeholder alle tekstens individuelle ord.\n",
    "\n",
    "Hvis I har lavet alle opgaverne ovenfor, har I allerede indlsæt teksten og gemt den under variabelnavnet `mfTekst`. Det er derfor ikke strengt nødvendigt at genindlæse teksten. For en god ordens skyld gør vi det dog alligevel, så I får et samlet overblik over koden til de fem skridt. En sådan præ-processeringssekvens omtales ofte som en `pre-processing pipeline`.\n",
    "\n",
    "I pipelinen skal vi bl.a. bruge nogle af de `string methods`, vi arbejdede med sidste gang. Tjek notebook 1, hvis i har brug for at genopfriske.\n",
    "\n",
    "***\n",
    "## Bag of words pipeline\n",
    "***\n",
    "### 1. Åbn og indlæs teksten\n",
    "***\n",
    "Indtast følgende kode i feltet nedenunder:\n",
    "\n",
    "\n",
    "`tekst = open(\"tale_mf_2021.txt\", encoding=\"utf8\")`<br>\n",
    "`mfTekst_0 = tekst.read()`<br>\n",
    "\n",
    "Vi kan efterfølgende inspicere indholdet af variablen ved at indtaste variabelnavnet. Indtast følgende i det næste felt:<br>\n",
    "`mfTekst_0`"
   ]
  },
  {
   "cell_type": "code",
   "execution_count": null,
   "metadata": {},
   "outputs": [],
   "source": [
    "\n"
   ]
  },
  {
   "cell_type": "code",
   "execution_count": null,
   "metadata": {},
   "outputs": [],
   "source": []
  },
  {
   "cell_type": "markdown",
   "metadata": {},
   "source": [
    "***\n",
    "### 2. Fjern formateringskode for linjeskift\n",
    "***\n",
    "Ved at inspicere indholdet af variablen er det tydeligt at den rå tekst indholder mange linjeskift. For at fjerne de mange formeteringskoder `\\n`, skal vi anvende den replace-method `.replace(arg1, arg2)`, vi kiggede på sidste gang.\n",
    "\n",
    "Det nemmeste er at erstatte formateringskoden med blanktegn, idet Python ignorer ekstra blanktegn.\n",
    "\n",
    "Indtast følgende kode i feltet nedenfor:\n",
    "\n",
    "`mfTekst_1 = mfTekst_0.replace(\"\\n\",\" \")`\n",
    "\n",
    "Indtast `mfTekst_1` i det næste felt for at inspicere indholdet af den nye variabel. **Tjek** at formateringskoderne er forsvundet."
   ]
  },
  {
   "cell_type": "code",
   "execution_count": null,
   "metadata": {},
   "outputs": [],
   "source": []
  },
  {
   "cell_type": "code",
   "execution_count": null,
   "metadata": {},
   "outputs": [],
   "source": [
    "\n"
   ]
  },
  {
   "cell_type": "markdown",
   "metadata": {},
   "source": [
    "***\n",
    "### 3. Fjern overflødige tegn\n",
    "***\n",
    "Næste skridt er at fjerne alle de overflødige tegn `.`, `,`, `:`, `*`, `-`, `'`, `\"`\n",
    "\n",
    "For at gøre det, kan vi lave serie af replace-kommandoer. \n",
    "\n",
    "**Bemærk** at outputtet af den første kommando er inputtet i den næste osv. Hvis vi ikke gør dette, laver vi i stedet en masse kopier af teksten, hvor den ene er uden komma, den anden uden opunktum osv. \n",
    "\n",
    "Indtast følgende kode i feltet nedenfor:\n",
    "\n",
    "`mfTekst_2 = mfTekst_1.replace(\".\",\" \")`<br>\n",
    "`mfTekst_3 = mfTekst_2.replace(\",\",\" \")`<br>\n",
    "`mfTekst_4 = mfTekst_3.replace(\":\",\" \")`<br>\n",
    "`mfTekst_5 = mfTekst_4.replace(\"*\",\" \")`<br>\n",
    "`mfTekst_6 = mfTekst_5.replace(\"–\",\" \")`<br>\n",
    "`mfTekst_7 = mfTekst_6.replace(\"'\",\" \")`<br>\n",
    "`mfTekst_ren = mfTekst_7.replace(\"”\",\" \")`\n",
    "\n",
    "Indtast `mfTekst_ren` i det næste felt for at inspicere indholdet af den nye variabel. **Tjek** at alle tegnene er forsvundet.\n",
    "\n",
    "\n",
    "\n",
    "**Bemærk** ar der kan være forskel på tegn, der ligner hinanden, fx på `\"` og `”` og på `-` og `–`.\n",
    "\n",
    "Hvis I ikke kan få `.replace()` til at virke, kan det skyldes, at I har valgt det forkerte tegn. Et **godt fif** for at undgå dette er, at copy/paste tegnet fra den rå tekst, I finder ved at inspicere variablen. Det har jeg gjort med `”` og `–` i dette eksempel for at få det til at virke. \n",
    "\n",
    "*BONUSOPGAVE HVIS I HAR TID*<br>\n",
    "Hvis det viser sig, at vi har **overset** nogle specialtegn, kan I eventuelt tilføje yderligere `.replace() statements`. **Husk** at rette de efterfølgende variabelnavne til!"
   ]
  },
  {
   "cell_type": "code",
   "execution_count": null,
   "metadata": {},
   "outputs": [],
   "source": []
  },
  {
   "cell_type": "code",
   "execution_count": null,
   "metadata": {},
   "outputs": [],
   "source": []
  },
  {
   "cell_type": "markdown",
   "metadata": {},
   "source": [
    "***\n",
    "### 4. Konvertér alle bogstaver til små bogstaver\n",
    "***\n",
    "Næste skridt er at konvertere alle bogstaver til små bogstaver. Det gøres let ved at anvende en anden af de `string methods` vi kiggede på sidst, nemlig `.lower()`.\n",
    "\n",
    "Indtast følgende kode i feltet nedenfor:\n",
    "\n",
    "`mfTekst_lav = mfTekst_ren.lower()` \n",
    "\n",
    "Indtast `mfTekst_lav` i det næste felt for at inspicere indholdet af den nye variabel. **Tjek** at alle bogstaver nu er små."
   ]
  },
  {
   "cell_type": "code",
   "execution_count": null,
   "metadata": {},
   "outputs": [],
   "source": []
  },
  {
   "cell_type": "code",
   "execution_count": null,
   "metadata": {},
   "outputs": [],
   "source": []
  },
  {
   "cell_type": "markdown",
   "metadata": {},
   "source": [
    "***\n",
    "### 5. Tokenize\n",
    "***\n",
    "Sidste skridt i vores allerførste `pre-processesing pipeline` er at `tokenize`, dvs. splitte strengen i tokens (ord). Det gør vi ved at anvende kommandoen `.split()`, som vi også kiggede på sidst.\n",
    "\n",
    "Indtast følgende kode i feltet nedenfor:\n",
    "\n",
    "`mfTekst_token = mfTekst_lav.split()` \n",
    "\n",
    "Indtast `mfTekst_token` i det næste felt for at inspicere indholdet af den nye variabel. **Tjek** at teksten, der før var en `string`, nu er en `list of strings`, dvs. en lang liste med ord.\n",
    "\n",
    "Hvis det virker, så ønsk hindanden **tillykke** med, at I nu har udført et stykke **vaskeægte** præ-processering!!"
   ]
  },
  {
   "cell_type": "code",
   "execution_count": null,
   "metadata": {},
   "outputs": [],
   "source": []
  },
  {
   "cell_type": "code",
   "execution_count": null,
   "metadata": {},
   "outputs": [],
   "source": []
  },
  {
   "cell_type": "markdown",
   "metadata": {},
   "source": [
    "***\n",
    "***\n",
    "## Opgave 7: Refleksion over et analyseeksempel (hvis i orker mere??)\n",
    "***\n",
    "***\n",
    "Når vi er færdige med at præ-processere, kan vi begynde at interessere os for at analysere det rensede og præprocesserede datasæt, vores ' bag of words'.\n",
    "\n",
    "Man kunne fx interessere sig for **ordlængde**. Ordlængde er vigtigt, fordi det blandt andet siger noget om, hvor let eller svær en tekst er at læse. Fx spiller ordlængde en vigtig rolle i udregningen af lix-tal, hvor ord med seks eller flere bogstaver er med til at øge lix-scoren - altså jo flere ord med mange bogstaver, jo højere lix-tal.\n",
    "\n",
    "Prøv at **afvikle** kodesekvensen nedenfor og se, om I kan regne ud, hvad der sker.\n",
    "\n",
    "**Diskutér** hvilken funktion de enkelte kodelinjer har."
   ]
  },
  {
   "cell_type": "code",
   "execution_count": null,
   "metadata": {},
   "outputs": [],
   "source": [
    "langeOrd = []  # denne kommando opretter en tom liste                \n",
    "for ord in mfTekst_token:           \n",
    "    if len(ord) > 5:   \n",
    "        langeOrd.append(ord) # .append() tilføjer elementer til en liste\n",
    "print(len(langeOrd))\n",
    "print(len(mfTekst_token))\n",
    "print(langeOrd)\n",
    "        "
   ]
  },
  {
   "cell_type": "markdown",
   "metadata": {},
   "source": [
    "***\n",
    "***\n",
    "## Ekstraopgaver\n",
    "***\n",
    "***\n",
    "Hvis I har tid og lyst, kan I eksperimentere med de scripts, vi kiggede på i Spyder inden gruppearbejdet. Jeg har kopieret kodesekvenserne ind i feltet nedenfor.\n",
    "\n",
    "I kan enten af-kommentere dem en ad gangen ved at fjerne de triple-anførselstegn `\"\"\"  \"\"\"`, der omgiver hvert eksempel. I kan også kopiere - eller **endnu bedre** selv taste - dem ind i et nyt felt.\n",
    "\n",
    "I tilføjer et ekstra felt ved at klikke på `+` -knappen i værktøjslinjen øverst i vinduet. I kan bruge pile-knapperne ved siden af til at flytte feltet op eller ned. Husk at vælge i rullegardinet om det skal være `Code` eller `Markdown`.\n",
    "\n"
   ]
  },
  {
   "cell_type": "code",
   "execution_count": null,
   "metadata": {},
   "outputs": [],
   "source": [
    "###EKSEMPEL 1 - if + else ###\n",
    "\"\"\"\n",
    "print('Hvor mange kopper kaffe drikker du om dagen?')\n",
    "a = int(input())\n",
    "if a == 4: # hvis denne betingelser er opfyldt (True), afvikles linjen nedenunder\n",
    "    print('Dit forbrug er gennemsnitligt')\n",
    "else:\n",
    "    print(\"Dit forbrug er enten over eller under gennemsnittet\")\n",
    "\"\"\"\n",
    "### EKSEMPEL 2 - comparison if + elif ###\n",
    "\"\"\"\n",
    "print('Hvor mange kopper kaffe drikker du om dagen?')\n",
    "a = int(input())\n",
    "if a == 4: # hvis denne betingelser er opfyldt (True), afvikles linjen nedenunder\n",
    "    print('Dit forbrug er gennemsnitligt')\n",
    "elif a < 4: # Hvis den første betingelse ikke er opfyldt (False), afvikles denne sekvens og så fremdeles\n",
    "    print('Du bør drikke mere kaffe!')\n",
    "elif a > 4:\n",
    "    print('Du bør drikke mindre kaffe!')\n",
    "\"\"\"\n",
    "\n",
    "### EKSEMPEL 3 comparison if + elif + boolian ###\n",
    "\"\"\"\n",
    "print('Hvor mange kopper kaffe drikker du om dagen?')\n",
    "a = int(input())\n",
    "if a == 4 or a == 5: # hvis denne betingelser er opfyldt (True), afvikles linjen nedenunder\n",
    "    print('Dit forbrug er gennemsnitligt')\n",
    "elif a < 4: # Hvis den første betingelse ikke er opfyldt (False), afvikles denne sekvens og så fremdeles\n",
    "    print('Du bør drikke mere kaffe!')\n",
    "elif a > 5:\n",
    "    print('Du bør drikke mindre kaffe!')\n",
    "    \n",
    "\"\"\"\n",
    "### EKSEMPEL 4a for loop + if ###\n",
    "\"\"\"\n",
    "a = [\"jeg\", \"du\", \"at\", \"på\", \"undervisningsforløb\", \"programmeringskursus\"] # liste der indeholder ord\n",
    "for ord in a:           # loop, der tjekker alle ord på listen ovenfor\n",
    "    if len(ord) > 5:    # betingelse (condition) der skal være opfyldt\n",
    "        print(ord)      # hvis betingelsen er opfykdt afvikles denne betingelse\n",
    "\"\"\"\n",
    "\n",
    "### EKSEMPEL 4b for loop + if ###\n",
    "\"\"\"\n",
    "a = [\"jeg\", \"du\", \"at\", \"på\", \"undervisningsforløb\", \"programmeringskursus\"] # liste der indeholder ord\n",
    "for x in a:           # loop, der tjekker alle ord på listen ovenfor\n",
    "    if len(x) > 5:    # betingelse (condition) der skal være opfyldt\n",
    "        print(x)      # hvis betingelsen er opfykdt afvikles denne betingelse\n",
    "\"\"\"\n",
    "### EKSEMPEL 5 for loop + if + .append() ###\n",
    "\"\"\"\n",
    "a = [\"jeg\", \"du\", \"at\", \"på\", \"undervisningsforløb\", \"programmeringskursus\"] # liste der indeholder ord\n",
    "b = []                  # opretter en tom liste\n",
    "for ord in a:           # loop, der tjekker alle ord på listen ovenfor\n",
    "    if len(ord) > 5:    # betingelse (condition) der skal være opfyldt\n",
    "        b.append(ord)   # tilføjer ordene fra liste a til liste b, hvis de opfylder betingelsen\n",
    "print(b)      # hvis betingelsen er opfykdt afvikles denne betingelse\n",
    "        \n",
    "\"\"\"\n",
    "### EKSEMPEL 6 while-loop + .append() ###\n",
    "\"\"\"\n",
    "a = []\n",
    "while len(a) <= 4:\n",
    "    print(\"Tast dit navn:\")\n",
    "    a.append(input())\n",
    "    print(a)\n",
    "print(\"Der er lukket for tilmeldinger\")\n",
    "\"\"\"\n",
    "### EKSEMPEL 7a while-loop + break + .append() ###\n",
    "\"\"\"\n",
    "a = []\n",
    "while True: # kører uendeligt fordi betingelsen altid er True\n",
    "    print(\"Tast dit navn:\")\n",
    "    a.append(input())\n",
    "    if len(a) >= 5:\n",
    "        break # afbryder det uendelige loop, hvos betingelsen ovenfor er opfyldt\n",
    "print(\"Der er lukket for tilmeldinger\")\n",
    "\"\"\"\n",
    "### EKSEMPEL 7b while-loop + continue + .append() ###\n",
    "\"\"\"\n",
    "aa = []\n",
    "while True: # kører uendeligt fordi betingelsen altid er True\n",
    "    print(\"Tast dit navn:\")\n",
    "    bb = input()\n",
    "    if bb == \"Ulf\":\n",
    "        continue\n",
    "    aa.append(bb)\n",
    "    print(aa)\n",
    "\"\"\"\n",
    "    \n",
    "       \n",
    "\n"
   ]
  }
 ],
 "metadata": {
  "kernelspec": {
   "display_name": "Python 3",
   "language": "python",
   "name": "python3"
  },
  "language_info": {
   "codemirror_mode": {
    "name": "ipython",
    "version": 3
   },
   "file_extension": ".py",
   "mimetype": "text/x-python",
   "name": "python",
   "nbconvert_exporter": "python",
   "pygments_lexer": "ipython3",
   "version": "3.8.3"
  }
 },
 "nbformat": 4,
 "nbformat_minor": 4
}
